{
 "cells": [
  {
   "cell_type": "markdown",
   "id": "6e2b7ce4",
   "metadata": {},
   "source": [
    "# Support Vector Machine"
   ]
  },
  {
   "cell_type": "code",
   "execution_count": null,
   "id": "ead272c4",
   "metadata": {},
   "outputs": [],
   "source": [
    "SVM is superviseed ML algorithm. \n",
    "using it for both 'classification' (mainly used) and regression."
   ]
  },
  {
   "cell_type": "markdown",
   "id": "6e2cf730",
   "metadata": {},
   "source": [
    "### Terminologies in SVM"
   ]
  },
  {
   "cell_type": "code",
   "execution_count": null,
   "id": "5ea44895",
   "metadata": {},
   "outputs": [],
   "source": [
    "1. Hyperplane:\n",
    "    Best decision boundary which separates two classes having maximum margin.\n",
    "    \n",
    "    2 features --> 1-D hyperplane (Straight Line)\n",
    "    3 features --> 2-D hyperplane\n",
    "    4 features --> 3-D hyperplane\n",
    "    \n",
    "    +ve hyperplane and -ve hyperplane\n",
    "    \n",
    "2. Support Vector:\n",
    "    Extream data points of particular class\n",
    "    Data points are closest to the hyperplane\n",
    "    These poins supports to find best hyperplane, hence called as \"Support Vectors\"\n",
    "    \n",
    "3. Margin:\n",
    "    Distance between two support vectors\n",
    "    Distance between +ve and -ve hyperplane\n",
    "    It should be maximum.\n",
    "    \n",
    "4. Best Hyperplane:\n",
    "    Having maximum margin"
   ]
  }
 ],
 "metadata": {
  "kernelspec": {
   "display_name": "Python 3 (ipykernel)",
   "language": "python",
   "name": "python3"
  },
  "language_info": {
   "codemirror_mode": {
    "name": "ipython",
    "version": 3
   },
   "file_extension": ".py",
   "mimetype": "text/x-python",
   "name": "python",
   "nbconvert_exporter": "python",
   "pygments_lexer": "ipython3",
   "version": "3.11.0"
  }
 },
 "nbformat": 4,
 "nbformat_minor": 5
}
